{
 "cells": [
  {
   "cell_type": "code",
   "execution_count": null,
   "id": "671b27ec-f985-4ce1-841e-c5af7794b35e",
   "metadata": {},
   "outputs": [],
   "source": [
    "#Ans 1\n",
    "\n",
    "Bagging reduce overfitting in decision tree by following ways:\n",
    "(1) Boot Straping\n",
    "(2) Reduced Variance\n",
    "(3) Arregation\n",
    "(4) Ensambel Averaging\n",
    "(5) Out of bag validation"
   ]
  },
  {
   "cell_type": "code",
   "execution_count": null,
   "id": "d6c3bb69-2d07-4906-aecb-ed52fbb307b9",
   "metadata": {},
   "outputs": [],
   "source": [
    "#Ans 2\n",
    "\n",
    "Advantage of using different type of base learner:\n",
    "(1) Decision Tree\n",
    "(2) Random Forest\n",
    "(3) SVM\n",
    "(4) Nueral Network\n",
    "\n",
    "Dis-advantage of using different type of base learner:\n",
    "(1) Homogeneity of Base Learners\n",
    "(2) Complexity and Computation\n",
    "(3) Hyperparameter Tuning\n",
    "(4) Ensemble Interpretability"
   ]
  },
  {
   "cell_type": "code",
   "execution_count": null,
   "id": "721ff6ae-d1a4-48d2-ad94-8bd87d7ed261",
   "metadata": {},
   "outputs": [],
   "source": [
    "#Ans 3\n",
    "The choice of base learner in bagging can have an impact on the bias-variance tradeoff of the ensemble. The bias-variance tradeoff is a fundamental concept in machine learning that relates the models ability to capture the underlying relationships in the data to its sensitivity to fluctuations in the training data. \n",
    "\n",
    "Different types of base learners can influence this tradeoff in various ways:\n",
    "(1) Low-Bias, High-Variance Base Learner\n",
    "(2) High-Bias, Low-Variance Base Learner\n",
    "(3) Medium-Bias, Medium-Variance Base Learner\n"
   ]
  },
  {
   "cell_type": "code",
   "execution_count": null,
   "id": "d6d0168a-f635-4de2-809f-b8771906062a",
   "metadata": {},
   "outputs": [],
   "source": [
    "#Ans 4\n",
    "\n",
    "Yes,\n",
    "\n",
    "Bagging for classification - In classification tasks, bagging involves creating an ensemble of base models where each base model is trained on a different bootstrapped subset of the training data.\n",
    "(1) Base Model Training\n",
    "(2) Arregation\n",
    "(3) Out of bag validation\n",
    "\n",
    "Bagging for regression - n regression tasks, the process of bagging is similar, but the aggregation of predictions is done differently due to the continuous nature of the target variable.\n",
    "(1) Base Model Training\n",
    "(2) Arregation\n",
    "(3) Out of bag validation"
   ]
  },
  {
   "cell_type": "code",
   "execution_count": null,
   "id": "63eb07c6-a138-4f3e-8fd9-c6fe18e82f29",
   "metadata": {},
   "outputs": [],
   "source": [
    "#Ans 5\n",
    "\n",
    "The ensemble size, which refers to the number of base models included in the bagging ensemble, plays a significant role in determining the performance and characteristics of the ensemble. The optimal ensemble size can vary depending on factors such as the complexity of the problem, the characteristics of the dataset, and computational resources. Here are some considerations regarding the role of ensemble size in bagging:\n",
    "\n",
    "(1) Cross-validation\n",
    "(2) performance plateau\n",
    "(3) task complexity\n",
    "(4) data size\n",
    "(5) computional resources\n",
    "(6) bias-variance tradeoff\n",
    "()"
   ]
  },
  {
   "cell_type": "code",
   "execution_count": null,
   "id": "b5eb4a56-e31a-41dc-ac0b-5ce42af87516",
   "metadata": {},
   "outputs": [],
   "source": [
    "#Ans 6\n",
    "\n",
    "Application: Breast Cancer Diagnosis Using Mammograms\n",
    "\n"
   ]
  }
 ],
 "metadata": {
  "kernelspec": {
   "display_name": "Python 3 (ipykernel)",
   "language": "python",
   "name": "python3"
  },
  "language_info": {
   "codemirror_mode": {
    "name": "ipython",
    "version": 3
   },
   "file_extension": ".py",
   "mimetype": "text/x-python",
   "name": "python",
   "nbconvert_exporter": "python",
   "pygments_lexer": "ipython3",
   "version": "3.10.8"
  }
 },
 "nbformat": 4,
 "nbformat_minor": 5
}
